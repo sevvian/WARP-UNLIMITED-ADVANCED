{
 "cells": [
  {
   "cell_type": "markdown",
   "metadata": {
    "id": "MIem627NYSoe"
   },
   "source": [
    "**Run the Following Code and enter your WARP CLIENT ID:**"
   ]
  },
  {
   "cell_type": "code",
   "execution_count": null,
   "metadata": {
    "colab": {
     "base_uri": "https://localhost:8080/",
     "height": 415
    },
    "id": "u-iCa939Vv5C",
    "outputId": "c383ec4d-197d-42b8-8fbc-c46044b686c3"
   },
   "outputs": [],
   "source": [
    "!pip install nest-asyncio\n",
    "\n",
    "import asyncio\n",
    "import os\n",
    "import urllib.request\n",
    "from datetime import datetime\n",
    "from json import dumps\n",
    "from random import choice,randint\n",
    "from string import ascii_letters, digits\n",
    "from sys import stdout\n",
    "from time import sleep\n",
    "from warnings import filterwarnings\n",
    "\n",
    "from nest_asyncio import apply\n",
    "\n",
    "apply()\n",
    "filterwarnings(\"ignore\", category=DeprecationWarning)\n",
    "\n",
    "referrer = input(\"[#] Enter the WARP CLIENT ID:\\n\")\n",
    "\n",
    "g = 0\n",
    "b = 0\n",
    "\n",
    "def genString(stringLength):\n",
    "  try:\n",
    "    letters = ascii_letters + digits\n",
    "    return ''.join(choice(letters) for i in range(stringLength))\n",
    "  except Exception as error:\n",
    "    print(error)\n",
    "\n",
    "def digitString(stringLength):\n",
    "  try:\n",
    "    digit = digits\n",
    "    return ''.join((choice(digit) for i in range(stringLength)))\n",
    "  except Exception as error:\n",
    "    print(error)\n",
    "\n",
    "url = f\"https://api.cloudflareclient.com/v0a{digitString(3)}/reg\"\n",
    "\n",
    "async def run():\n",
    "  try:\n",
    "    install_id = genString(22)\n",
    "    body = {\n",
    "      \"key\": \"{}=\".format(genString(43)),\n",
    "      \"install_id\": install_id,\n",
    "      \"fcm_token\": \"{}:APA91b{}\".format(install_id, genString(134)),\n",
    "      \"referrer\": referrer,\n",
    "      \"warp_enabled\": False,\n",
    "      \"tos\": datetime.now().isoformat()[:-3] + \"+02:00\",\n",
    "      \"type\": \"Android\",\n",
    "      \"locale\": \"es_ES\"\n",
    "    }\n",
    "    data = dumps(body).encode(\"utf8\")\n",
    "    headers = {\n",
    "      \"Content-Type\": \"application/json; charset=UTF-8\",\n",
    "      \"Host\": \"api.cloudflareclient.com\",\n",
    "      \"Connection\": \"Keep-Alive\",\n",
    "      \"Accept-Encoding\": \"gzip\",\n",
    "      \"User-Agent\": \"okhttp/3.12.1\"\n",
    "    }\n",
    "    req = urllib.request.Request(url, data, headers)\n",
    "    response = urllib.request.urlopen(req)\n",
    "    status_code = response.getcode()\n",
    "    return status_code\n",
    "  except Exception as error:\n",
    "    return error\n",
    "\n",
    "async def animation():\n",
    "  cooldown = 0.3\n",
    "  os.system(\"cls\" if os.name == \"nt\" else \"clear\")\n",
    "  animation = [\"[□□□□□□□□□□] 0%\", \"[■□□□□□□□□□] 10%\", \"[■■□□□□□□□□] 20%\", \"[■■■□□□□□□□] 30%\", \"[■■■■□□□□□□] 40%\", \"[■■■■■□□□□□] 50%\", \"[■■■■■■□□□□] 60%\", \"[■■■■■■■□□□] 70%\", \"[■■■■■■■■□□] 80%\", \"[■■■■■■■■■□] 90%\", \"[■■■■■■■■■■] 100%\"] \n",
    "  for i in range(len(animation)):\n",
    "    stdout.write(\"\\r[∆] Progress: \" + animation[i % len(animation)])\n",
    "    stdout.flush()\n",
    "    if i == 2:\n",
    "      result = await run()\n",
    "      if result != 200:\n",
    "        cooldown = 0.1\n",
    "    await asyncio.sleep(cooldown)\n",
    "  return result\n",
    "\n",
    "while True:\n",
    "  anim = asyncio.get_event_loop()\n",
    "  anim_coroutine = animation()\n",
    "  result = anim.run_until_complete(anim_coroutine)\n",
    "  if result == 200:\n",
    "    g += 1\n",
    "    print(f\"\\n[•] WARP CLIENT ID: {referrer}\")\n",
    "    print(f\"[✓] Added: {g} GB\")\n",
    "    print(f\"[#] Total: {g} Good {b} Bad\")\n",
    "    for i in range(randint(240,900),-1,-1):\n",
    "      stdout.write(f\"\\033[1K\\r[!] Cooldown: {i} seconds\")\n",
    "      stdout.flush()\n",
    "      sleep(1)\n",
    "  else:\n",
    "    b += 1\n",
    "    print(\"\\n[×] Error:\", result)\n",
    "    print(f\"[#] Total: {g} Good {b} Bad\")\n",
    "    for i in range(randint(240,900),-1,-1):\n",
    "      stdout.write(f\"\\033[1K\\r[!] Cooldown: {i} seconds\")\n",
    "      stdout.flush()\n",
    "      sleep(1)"
   ]
  }
 ],
 "metadata": {
  "colab": {
   "provenance": []
  },
  "kernelspec": {
   "display_name": "Python 3 (ipykernel)",
   "language": "python",
   "name": "python3"
  },
  "language_info": {
   "codemirror_mode": {
    "name": "ipython",
    "version": 3
   },
   "file_extension": ".py",
   "mimetype": "text/x-python",
   "name": "python",
   "nbconvert_exporter": "python",
   "pygments_lexer": "ipython3",
   "version": "3.10.6"
  },
  "vscode": {
   "interpreter": {
    "hash": "8a5edab282632443219e051e4ade2d1d5bbc671c781051bf1437897cbdfea0f1"
   }
  }
 },
 "nbformat": 4,
 "nbformat_minor": 1
}
